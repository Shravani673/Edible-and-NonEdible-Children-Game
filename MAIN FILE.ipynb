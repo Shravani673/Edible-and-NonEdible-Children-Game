{
 "cells": [
  {
   "cell_type": "markdown",
   "metadata": {},
   "source": [
    "Importing the Libraries"
   ]
  },
  {
   "cell_type": "raw",
   "metadata": {
    "vscode": {
     "languageId": "raw"
    }
   },
   "source": [
    "import sys, subprocess\n",
    "[subprocess.check_call([sys.executable, \"-m\", \"pip\", \"install\", pkg]) for pkg in [\"opencv-python\", \"cvzone\", \"numpy\", \"tk\", \"Pillow\", \"mediapipe\"]]\n"
   ]
  },
  {
   "cell_type": "raw",
   "metadata": {
    "vscode": {
     "languageId": "raw"
    }
   },
   "source": [
    "import mediapipe as mp\n",
    "print(\"Mediapipe is installed and working correctly!\")\n"
   ]
  },
  {
   "cell_type": "code",
   "execution_count": 19,
   "metadata": {},
   "outputs": [
    {
     "name": "stdout",
     "output_type": "stream",
     "text": [
      "All libraries are installed successfully!\n"
     ]
    }
   ],
   "source": [
    "import cv2\n",
    "import cvzone\n",
    "import os\n",
    "import random\n",
    "from cvzone.FaceMeshModule import FaceMeshDetector\n",
    "import tkinter as tk\n",
    "from tkinter import Label, Button, Canvas\n",
    "from PIL import Image, ImageTk\n",
    "import numpy as np\n",
    "import mediapipe as mp  \n",
    "\n",
    "print(\"All libraries are installed successfully!\")\n"
   ]
  },
  {
   "cell_type": "markdown",
   "metadata": {},
   "source": [
    "pip install cv2 cvzone os random tkinter pillow numpy"
   ]
  },
  {
   "cell_type": "markdown",
   "metadata": {},
   "source": [
    "Start the webcam"
   ]
  },
  {
   "cell_type": "code",
   "execution_count": 20,
   "metadata": {},
   "outputs": [
    {
     "data": {
      "text/plain": [
       "True"
      ]
     },
     "execution_count": 20,
     "metadata": {},
     "output_type": "execute_result"
    }
   ],
   "source": [
    "cap = cv2.VideoCapture(0)\n",
    "if not cap.isOpened():\n",
    "    print(\"Error: Could not open webcam.\")\n",
    "    root = tk.Tk()\n",
    "    root.title(\"Error\")\n",
    "    Label(root, text=\"Error: Could not open webcam.\", font=(\"Arial\", 20), fg=\"red\").pack(pady=20)\n",
    "    Button(root, text=\"Exit\", command=root.quit, font=(\"Arial\", 14), bg=\"red\", fg=\"white\").pack(pady=10)\n",
    "    root.mainloop()\n",
    "    exit()\n",
    "\n",
    "cap.set(3, 800)\n",
    "cap.set(4, 600)"
   ]
  },
  {
   "cell_type": "markdown",
   "metadata": {},
   "source": [
    "Face Mesh Detection"
   ]
  },
  {
   "cell_type": "code",
   "execution_count": 21,
   "metadata": {},
   "outputs": [],
   "source": [
    "# Face mesh detector\n",
    "detector = FaceMeshDetector(staticMode=False, maxFaces=1, minDetectionCon=0.5, minTrackCon=0.5)\n",
    "\n",
    "# Mouth detection landmarks\n",
    "idList = [0, 17, 78, 292]"
   ]
  },
  {
   "cell_type": "markdown",
   "metadata": {},
   "source": [
    "Load the Data"
   ]
  },
  {
   "cell_type": "code",
   "execution_count": 22,
   "metadata": {},
   "outputs": [],
   "source": [
    "from pathlib import Path\n"
   ]
  },
  {
   "cell_type": "code",
   "execution_count": 23,
   "metadata": {},
   "outputs": [],
   "source": [
    "import os\n",
    "from pathlib import Path\n",
    "import cv2\n",
    "\n",
    "base_path = Path().resolve()  # Get the directory where the notebook is located\n",
    "\n",
    "folderEatable = base_path / \"eatable\"\n",
    "folderNonEatable = base_path / \"noneatable\"\n",
    "\n",
    "# Check the \"non_eatable\" folder exists\n",
    "if not folderNonEatable.exists():\n",
    "    print(f\"Error: Folder '{folderNonEatable}' not found. Please create the folder and add images.\")\n",
    "    listNonEatable = []  # Set an empty list to prevent further errors\n",
    "else:\n",
    "    listNonEatable = os.listdir(str(folderNonEatable))\n",
    "\n",
    "# Check the \"eatable\" folder exists\n",
    "if not folderEatable.exists():\n",
    "    print(f\"Error: Folder '{folderEatable}' not found. Please create the folder and add images.\")\n",
    "    listEatable = []\n",
    "else:\n",
    "    listEatable = os.listdir(str(folderEatable))\n",
    "\n",
    "# Load images \n",
    "eatables = [cv2.imread(str(folderEatable / obj), cv2.IMREAD_UNCHANGED) for obj in listEatable] if listEatable else []\n",
    "nonEatables = [cv2.imread(str(folderNonEatable / obj), cv2.IMREAD_UNCHANGED) for obj in listNonEatable] if listNonEatable else []\n"
   ]
  },
  {
   "cell_type": "markdown",
   "metadata": {},
   "source": [
    "Variables used in the Game"
   ]
  },
  {
   "cell_type": "code",
   "execution_count": 24,
   "metadata": {},
   "outputs": [],
   "source": [
    "pos = [200, 0]\n",
    "speed = 5\n",
    "count = 0\n",
    "isEatable = True\n",
    "gameOver = False\n",
    "currentObject = eatables[0]\n",
    "game_running = False"
   ]
  },
  {
   "cell_type": "markdown",
   "metadata": {},
   "source": [
    "Reset objects"
   ]
  },
  {
   "cell_type": "code",
   "execution_count": 25,
   "metadata": {},
   "outputs": [],
   "source": [
    "def resetObject():\n",
    "    global currentObject, isEatable, pos\n",
    "    pos[0] = random.randint(50, 750)\n",
    "    pos[1] = 0\n",
    "    randNo = random.randint(0, 2)\n",
    "    if randNo == 0:\n",
    "        currentObject = nonEatables[random.randint(0, len(nonEatables) - 1)]\n",
    "        isEatable = False\n",
    "    else:\n",
    "        currentObject = eatables[random.randint(0, len(eatables) - 1)]\n",
    "        isEatable = True\n"
   ]
  },
  {
   "cell_type": "markdown",
   "metadata": {},
   "source": [
    "UI Setup"
   ]
  },
  {
   "cell_type": "code",
   "execution_count": 26,
   "metadata": {},
   "outputs": [],
   "source": [
    "import tkinter as tk\n",
    "\n",
    "def show_error():\n",
    "    global root  # Declare root as global\n",
    "    root = tk.Tk()  # Now assign it separately\n",
    "    root.title(\"Error\")\n",
    "    root.mainloop()  # Run the Tkinter window\n"
   ]
  },
  {
   "cell_type": "code",
   "execution_count": 27,
   "metadata": {},
   "outputs": [],
   "source": [
    "def setup_window():\n",
    "    global root\n",
    "    root = tk.Tk()\n",
    "    root.title(\"Eatable & Non-Eatable Game\")\n",
    "    root.geometry(\"840x720\")\n"
   ]
  },
  {
   "cell_type": "code",
   "execution_count": 28,
   "metadata": {},
   "outputs": [],
   "source": [
    "setup_window()\n"
   ]
  },
  {
   "cell_type": "code",
   "execution_count": 29,
   "metadata": {},
   "outputs": [],
   "source": [
    "\n",
    "root.title(\"Eatable & Non-Eatable Game\")\n",
    "root.geometry(\"840x720\")\n",
    "\n",
    "canvas = Canvas(root, width=800, height=600)\n",
    "canvas.pack()\n",
    "\n",
    "score_label = Label(root, text=\"Score: 0\", font=(\"Arial\", 14), fg=\"purple\")\n",
    "score_label.pack()\n",
    "\n",
    "object_image_label = Label(root)\n",
    "object_image_label.pack()\n",
    "\n",
    "status_label = Label(root, text=\"Press 'Start' to begin\", font=(\"Arial\", 14), fg=\"blue\")\n",
    "status_label.pack()\n"
   ]
  },
  {
   "cell_type": "markdown",
   "metadata": {},
   "source": [
    "Function to Start the game"
   ]
  },
  {
   "cell_type": "code",
   "execution_count": 30,
   "metadata": {},
   "outputs": [],
   "source": [
    "def start_game():\n",
    "    global game_running, gameOver, count\n",
    "    if not game_running:\n",
    "        game_running = True\n",
    "        gameOver = False\n",
    "        count = 0\n",
    "        resetObject()\n",
    "        status_label.config(text=\"Game Started!\")\n",
    "        print(\"Start button clicked, game_running:\", game_running)\n",
    "        update_frame()"
   ]
  },
  {
   "cell_type": "markdown",
   "metadata": {},
   "source": [
    "Function to Restart the game"
   ]
  },
  {
   "cell_type": "code",
   "execution_count": 31,
   "metadata": {},
   "outputs": [],
   "source": [
    "def restart_game():\n",
    "    global gameOver, count, game_running\n",
    "    gameOver = False\n",
    "    count = 0\n",
    "    resetObject()\n",
    "    status_label.config(text=\"Game Restarted!\")\n",
    "    if not game_running:\n",
    "        game_running = True\n",
    "        update_frame()\n"
   ]
  },
  {
   "cell_type": "markdown",
   "metadata": {},
   "source": [
    "Function to Exit the game"
   ]
  },
  {
   "cell_type": "code",
   "execution_count": 32,
   "metadata": {},
   "outputs": [],
   "source": [
    "def exit_game():\n",
    "    global game_running\n",
    "    game_running = False  # Stop the update_frame loop\n",
    "    try:\n",
    "        cap.release()  # Release the webcam\n",
    "        print(\"Webcam released\")\n",
    "    except Exception as e:\n",
    "        print(f\"Error releasing webcam: {e}\")\n",
    "    try:\n",
    "        root.quit()  # Stop the Tkinter main loop\n",
    "        root.destroy()  # Destroy the window\n",
    "        print(\"Window closed\")\n",
    "    except Exception as e:\n",
    "        print(f\"Error closing window: {e}\")"
   ]
  },
  {
   "cell_type": "markdown",
   "metadata": {},
   "source": [
    "Buttons Creation"
   ]
  },
  {
   "cell_type": "code",
   "execution_count": 33,
   "metadata": {},
   "outputs": [],
   "source": [
    "start_button = Button(root, text=\"Start\", command=start_game, font=(\"Arial\", 16), bg=\"green\", fg=\"white\", padx=10, pady=5)\n",
    "start_button.pack(side=tk.LEFT, padx=10, pady=5)\n",
    "\n",
    "restart_button = Button(root, text=\"Restart\", command=restart_game, font=(\"Arial\", 16), bg=\"orange\", fg=\"white\", padx=10, pady=5)\n",
    "restart_button.pack(side=tk.LEFT, padx=10, pady=5)\n",
    "\n",
    "exit_button = Button(root, text=\"Exit\", command=exit_game, font=(\"Arial\", 16), bg=\"red\", fg=\"white\", padx=10, pady=5)\n",
    "exit_button.pack(side=tk.LEFT, padx=10, pady=5)"
   ]
  },
  {
   "cell_type": "markdown",
   "metadata": {},
   "source": [
    "Working once the Game starts"
   ]
  },
  {
   "cell_type": "code",
   "execution_count": 34,
   "metadata": {},
   "outputs": [],
   "source": [
    "def update_frame():\n",
    "    global pos, count, gameOver, currentObject, game_running\n",
    "    if game_running:  # Only run if game_running is True\n",
    "        success, img = cap.read()\n",
    "        if success:\n",
    "            img = cv2.resize(img, (800, 600))\n",
    "            if not gameOver:\n",
    "                img, faces = detector.findFaceMesh(img, draw=False)\n",
    "                img = cvzone.overlayPNG(img, currentObject, pos)\n",
    "                pos[1] += speed\n",
    "                if pos[1] > 540:\n",
    "                    resetObject()\n",
    "                if faces:\n",
    "                    face = faces[0]\n",
    "                    up, down = face[idList[0]], face[idList[1]]\n",
    "                    up_down, _ = detector.findDistance(up, down)\n",
    "                    left_right, _ = detector.findDistance(face[idList[2]], face[idList[3]])\n",
    "                    ratio = int((up_down / left_right) * 100)\n",
    "                    cx, cy = (up[0] + down[0]) // 2, (up[1] + down[1]) // 2\n",
    "                    distMouthObject, _ = detector.findDistance((cx, cy), (pos[0] + 25, pos[1] + 25))\n",
    "                    mouthStatus = \"OPEN\" if ratio > 60 else \"CLOSED\"\n",
    "                    cv2.putText(img, mouthStatus, (20, 30), cv2.FONT_HERSHEY_COMPLEX, 1, (255, 0, 255), 1)\n",
    "                    if distMouthObject < 50 and ratio > 60:\n",
    "                        if isEatable:\n",
    "                            count += 1\n",
    "                            resetObject()\n",
    "                        else:\n",
    "                            gameOver = True\n",
    "                score_label.config(text=f\"Score: {count}\")\n",
    "                cv2.putText(img, f'Score: {count}', (700, 30), cv2.FONT_HERSHEY_PLAIN, 1.5, (255, 0, 255), 2)\n",
    "            else:\n",
    "                cv2.putText(img, \"GAME OVER\", (200, 300), cv2.FONT_HERSHEY_PLAIN, 5, (255, 0, 255), 6)\n",
    "                status_label.config(text=\"Game Over! Press 'Restart' to play again\")\n",
    "            \n",
    "            # Update the falling object image\n",
    "            object_img = cv2.resize(currentObject, (50, 50))\n",
    "            if object_img.shape[2] == 4:\n",
    "                object_img = cv2.cvtColor(object_img, cv2.COLOR_BGRA2RGBA)\n",
    "            else:\n",
    "                object_img = cv2.cvtColor(object_img, cv2.COLOR_BGR2RGB)\n",
    "            object_img = Image.fromarray(object_img)\n",
    "            object_img_tk = ImageTk.PhotoImage(image=object_img)\n",
    "            object_image_label.config(image=object_img_tk)\n",
    "            object_image_label.image = object_img_tk\n",
    "\n",
    "            # Update the canvas\n",
    "            img = cv2.cvtColor(img, cv2.COLOR_BGR2RGB)\n",
    "            img = Image.fromarray(img)\n",
    "            img_tk = ImageTk.PhotoImage(image=img)\n",
    "            canvas.create_image(0, 0, anchor=tk.NW, image=img_tk)\n",
    "            canvas.img_tk = img_tk\n",
    "        else:\n",
    "            img = np.zeros((600, 800, 3), dtype=np.uint8)\n",
    "            cv2.putText(img, \"Webcam Error\", (200, 300), cv2.FONT_HERSHEY_PLAIN, 4, (255, 255, 255), 4)\n",
    "            img = Image.fromarray(img)\n",
    "            img_tk = ImageTk.PhotoImage(image=img)\n",
    "            canvas.create_image(0, 0, anchor=tk.NW, image=img_tk)\n",
    "            canvas.img_tk = img_tk\n",
    "            print(\"Failed to read frame from webcam\")\n",
    "        if game_running:  # Only schedule next update if still running\n",
    "            root.after(10, update_frame)"
   ]
  },
  {
   "cell_type": "markdown",
   "metadata": {},
   "source": [
    "Calling the function"
   ]
  },
  {
   "cell_type": "code",
   "execution_count": 35,
   "metadata": {},
   "outputs": [
    {
     "name": "stdout",
     "output_type": "stream",
     "text": [
      "Webcam released\n",
      "Window closed\n"
     ]
    }
   ],
   "source": [
    "root.mainloop()\n",
    "cap.release()  # Final cleanup\n",
    "cv2.destroyAllWindows()"
   ]
  },
  {
   "cell_type": "markdown",
   "metadata": {},
   "source": [
    "Versions of the Libraries"
   ]
  },
  {
   "cell_type": "raw",
   "metadata": {
    "vscode": {
     "languageId": "raw"
    }
   },
   "source": [
    "import cv2\n",
    "import cvzone\n",
    "import os\n",
    "import random\n",
    "import tkinter\n",
    "import PIL\n",
    "import numpy as np\n",
    "import pkg_resources  # Alternative for packages without __version__\n",
    "\n",
    "print(f\"OpenCV Version: {cv2.__version__}\")\n",
    "print(f\"CVZone Version: {pkg_resources.get_distribution('cvzone').version}\")\n",
    "print(f\"OS Module: Built-in (No Version)\")\n",
    "print(f\"Random Module: Built-in (No Version)\")\n",
    "print(f\"Tkinter Version: {tkinter.TkVersion}\")\n",
    "print(f\"PIL (Pillow) Version: {PIL.__version__}\")\n",
    "print(f\"NumPy Version: {np.__version__}\")\n",
    "print(f\"Mediapipe Version: {mp.__version__}\")\n"
   ]
  },
  {
   "cell_type": "code",
   "execution_count": null,
   "metadata": {},
   "outputs": [],
   "source": []
  }
 ],
 "metadata": {
  "kernelspec": {
   "display_name": "base",
   "language": "python",
   "name": "python3"
  },
  "language_info": {
   "codemirror_mode": {
    "name": "ipython",
    "version": 3
   },
   "file_extension": ".py",
   "mimetype": "text/x-python",
   "name": "python",
   "nbconvert_exporter": "python",
   "pygments_lexer": "ipython3",
   "version": "3.12.7"
  }
 },
 "nbformat": 4,
 "nbformat_minor": 2
}
